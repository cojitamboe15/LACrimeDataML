{
 "cells": [
  {
   "cell_type": "markdown",
   "metadata": {},
   "source": [
    "Los Angeles Crime 2020 - Present\n",
    "===================\n",
    "**`Project Goal`**\n",
    "------------\n"
   ]
  },
  {
   "cell_type": "markdown",
   "metadata": {},
   "source": [
    "Frame the Problem and Look at the Big Picture\n",
    "=====================================\n",
    "\n",
    "1. **Define the objective in business terms:** \n",
    "\n",
    "2. **How will your solution be used?**\n",
    "\n",
    "3. **What are current solutions (if any)?** \n",
    "\n",
    "4. **How should you frame this problem?**\n",
    "\n",
    "5. **How should performance be measured? Is the performance measure aligned with the business objective?** \n",
    "\n",
    "6. **What would be the minimum performance needed to reach the business objective?**\n",
    "\n",
    "7. **What are comparable problems? Can you reuse experience or tools?** \n",
    "\n",
    "8. **Is human expertise available?**\n",
    "\n",
    "9. **How would you solve the problem manually?** \n",
    "\n",
    "10. **List the assumptions you (or others) have made so far. Verify assumptions if possible.** "
   ]
  },
  {
   "cell_type": "markdown",
   "metadata": {},
   "source": []
  },
  {
   "cell_type": "code",
   "execution_count": null,
   "metadata": {},
   "outputs": [],
   "source": []
  }
 ],
 "metadata": {
  "language_info": {
   "name": "python"
  },
  "orig_nbformat": 4
 },
 "nbformat": 4,
 "nbformat_minor": 2
}
