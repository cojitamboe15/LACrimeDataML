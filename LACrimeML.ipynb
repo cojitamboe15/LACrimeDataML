{
 "cells": [
  {
   "cell_type": "markdown",
   "metadata": {},
   "source": [
    "Los Angeles Crime 2020 - Present\n",
    "===================\n",
    "This dataset reflects incidents of crime in the City of Los Angeles dating back to 2020. This data is transcribed from original crime reports that are typed on paper and therefore there may be some inaccuracies within the data.\n",
    " \n",
    "**`Acknowledgements:`**\n",
    " \n",
    "Project idea from https://www.kaggle.com/datasets/chaitanyakck/crime-data-from-2020-to-present?select=Crime_Data_from_2020_to_Present.csv\n",
    " \n",
    "Data Collection Source: https://data.lacity.org/Public-Safety/Crime-Data-from-2020-to-Present/2nrs-mtv8\n",
    " \n",
    "**`Project Goal`**\n",
    "------------\n",
    "Categorize the neighborhoods of Los Angeles by crime severity to know and predict which areas/municipalities are categorized as dangerous according to the FBI’s Uniform Crime Reporting (UCR) Program. Crime comparison amongst areas references the federal crime levels\n",
    " \n",
    "1. \"Violent Crime is composed of four offenses: murder and nonnegligent manslaughter, forcible rape, robbery, and aggravated assault. Violent crimes are defined in the UCR Program as those offenses which involve force or threat of force.\" (Crime in the United States)\n",
    " \n",
    "2. \"Property crime includes the offenses of burglary, larceny-theft, motor vehicle theft, and arson.\" (Crime in the United States)\n",
    " \n",
    "*More information can be found at https://www.fbi.gov/services/cjis/ucr*\n",
    " \n",
    "3.\n",
    " \n",
    "`Client Story:` A Los Angeles-based realtor wants to know which areas of Los Angeles to invest in (buy real estate). Since safety is a major concern for potential customers, the real estate agency wants to know the safest municipalities in the city to do business in. Thus, the real estate agency prefers to avoid areas of Los Angeles that may be risky to do business in. This ensures that the real estate investment is worthwhile in the long run and experience net gains. Areas with higher crime may scare away customers which could lead to a net loss of the investment. Market real estate price is not an issue to be wary of, the real estate agency solely wants to focus on the crime levels of the municipalities within the city.\n"
   ]
  },
  {
   "cell_type": "markdown",
   "metadata": {},
   "source": [
    "Frame the Problem and Look at the Big Picture\n",
    "=====================================\n",
    " \n",
    "1. **Define the objective in business terms:**\n",
    "Our client (the realtor based in Los Angeles), wants to know which areas of LA to invest in, based on the crime reports. Areas with higher crime rate and other determining factors are to be avoided, and areas with safer rates are much preffered.\n",
    " \n",
    "2. **How will your solution be used?**\n",
    "Our solution will be used in order to determine which areas of LA are the safest to invest into real-estate in that area. The results will not be a defined yes/no to invest in this area. The results will be used to assist the real estate agency into making their investment decision, potential crime is solely a factor of that decision. Project results will categorize each area as:\n",
    " \n",
    "`very dangerous` - Area to be completely avoided. Crime levels are very high making real estate investment a very risky decision\n",
    " \n",
    "`dangerous` - Area to preferably be avoided. Crime levels are high, risky investment\n",
    " \n",
    "`safe` - Area to perfect to do business in. Crime levels extremely low\n",
    " \n",
    "`neutral` - Area is fine to do business in. Crime levels are average\n",
    " \n",
    "`tbd` - tbd\n",
    " \n",
    "3. **What are current solutions (if any)?** Reseach crime data in the LA area. results may vary but there are plenty of reseach papers and other resources that study the crime levels of the city of Los Angeles. Sufficient research may indicate the areas of the city that face the most crime and ultimately affect the real estate market in an area.\n",
    " \n",
    "4. **How should you frame this problem?** The problem is an unsupervised clustering problem. . . . There isn't a label we can predict on. Furthermore, this problem is an offline learning system as identifying crime in an area is better suited to analyze over a period of time. Thus, we don't need to continously update the program even though crime occurs very frequently. Important to also note that the data is updated weekly by the LAPD.\n",
    " \n",
    "5. **How should performance be measured? Is the performance measure aligned with the business objective?**\n",
    " \n",
    "6. **What would be the minimum performance needed to reach the business objective?**\n",
    " \n",
    "7. **What are comparable problems? Can you reuse experience or tools?** We can look at project two for reference on clustering and performing optimization. A couple of in class examples further demonstrated the use of clustering, dimensionality reduction. In addition, we could also look at some visualization work done from the California housing dataset (state being the same was not on purpose). Furthermore, reference to ensembles can be looked at from project 1 in addition to the potential to use neural networks which we can reference recent class examples.\n",
    " \n",
    "8. **Is human expertise available?** There is no human expertise availble. All the data is gathered from the LAPD\n",
    " \n",
    "9. **How would you solve the problem manually?** Survey the populace of Los Angeles. The survey asks what they think of the crime status of their municipality. Asking multiple questions about different crimes, their reoccurence and rate their municipality from a range of 1 to 10. 1 meaning very safe, 10 meaning very dangerous. The ending score for each surveyer would be the average of their ratings. All the surveys would then be combined and averaged out. The results of the survey would indicate which areas to avoid solely based off human interpretation\n",
    " \n",
    "10. **List the assumptions you (or others) have made so far. Verify assumptions if possible.** The data is provided from the LAPD. we assume that the information provided is as accurate and objective as possible. We assume no corruption, and misleading reporting by law enforcement and any office involved in the gathering, preparation, and sharing of the data."
   ]
  },
  {
   "cell_type": "markdown",
   "metadata": {},
   "source": [
    "Get The Data\n",
    "=================="
   ]
  },
  {
   "cell_type": "markdown",
   "metadata": {},
   "source": []
  },
  {
   "cell_type": "code",
   "execution_count": null,
   "metadata": {},
   "outputs": [],
   "source": []
  }
 ],
 "metadata": {
  "language_info": {
   "name": "python"
  },
  "orig_nbformat": 4
 },
 "nbformat": 4,
 "nbformat_minor": 2
}
