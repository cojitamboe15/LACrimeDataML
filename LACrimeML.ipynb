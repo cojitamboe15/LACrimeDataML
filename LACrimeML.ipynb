{
 "cells": [
  {
   "cell_type": "markdown",
   "metadata": {},
   "source": [
    "Los Angeles Crime 2020 - Present\n",
    "===================\n",
    "This dataset reflects incidents of crime in the City of Los Angeles dating back to 2020. This data is transcribed from original crime reports that are typed on paper and therefore there may be some inaccuracies within the data. \n",
    "\n",
    "**`Acknowledgements:`**\n",
    "CSV downloaded from https://www.kaggle.com/datasets/chaitanyakck/crime-data-from-2020-to-present?select=Crime_Data_from_2020_to_Present.csv\n",
    "\n",
    "Data Collection Source: https://data.lacity.org/\n",
    "\n",
    "**`Project Goal`**\n",
    "------------\n",
    "Categorize the neighborhoods of Los Angeles by crime severity to know and predict which areas/municipalities are categorized as dangerous according to the \n",
    "\n",
    "`Client Story:` A Los Angeles-based realtor wants to know which areas of Los Anegeles to invest in (buy real estate). Since safety is a major concern for potential customers, the real estate agency wants to know the safest municipalities in the city to do business in. Thus, the real estate agency prefers to avoid areas of Los Angeles that may be risky to do business in. Areas with higher crime may scare away customers which could lead to a net loss of the investment. Market real estate price is not an issue to be wary of, the real estate agency solely wants to focus on the crime levels of the municipalities within the city. Important to note that the project goal is not solely to define the municipalities in the present but predict the potential crime levels for the future. This ensures that the real estate investment is worthwhile in the long run and has net gains over an extended period of time. \n"
   ]
  },
  {
   "cell_type": "markdown",
   "metadata": {},
   "source": [
    "Frame the Problem and Look at the Big Picture\n",
    "=====================================\n",
    "\n",
    "1. **Define the objective in business terms:** \n",
    "\n",
    "2. **How will your solution be used?**\n",
    "\n",
    "3. **What are current solutions (if any)?** \n",
    "\n",
    "4. **How should you frame this problem?**\n",
    "\n",
    "5. **How should performance be measured? Is the performance measure aligned with the business objective?** \n",
    "\n",
    "6. **What would be the minimum performance needed to reach the business objective?**\n",
    "\n",
    "7. **What are comparable problems? Can you reuse experience or tools?** \n",
    "\n",
    "8. **Is human expertise available?**\n",
    "\n",
    "9. **How would you solve the problem manually?** \n",
    "\n",
    "10. **List the assumptions you (or others) have made so far. Verify assumptions if possible.** "
   ]
  },
  {
   "cell_type": "markdown",
   "metadata": {},
   "source": [
    "Get The Data\n",
    "=================="
   ]
  },
  {
   "cell_type": "markdown",
   "metadata": {},
   "source": []
  },
  {
   "cell_type": "code",
   "execution_count": null,
   "metadata": {},
   "outputs": [],
   "source": []
  }
 ],
 "metadata": {
  "language_info": {
   "name": "python"
  },
  "orig_nbformat": 4
 },
 "nbformat": 4,
 "nbformat_minor": 2
}
