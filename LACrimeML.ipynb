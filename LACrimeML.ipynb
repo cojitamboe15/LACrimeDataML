{
 "cells": [
  {
   "cell_type": "markdown",
   "metadata": {},
   "source": [
    "Los Angeles Crime 2020 - Present\n",
    "===================\n",
    "This dataset reflects incidents of crime in the City of Los Angeles dating back to 2020. This data is transcribed from original crime reports that are typed on paper and therefore there may be some inaccuracies within the data. \n",
    "\n",
    "**`Acknowledgements:`**\n",
    "CSV downloaded from https://www.kaggle.com/datasets/chaitanyakck/crime-data-from-2020-to-present?select=Crime_Data_from_2020_to_Present.csv\n",
    "\n",
    "Data Collection Source: https://data.lacity.org/Public-Safety/Crime-Data-from-2020-to-Present/2nrs-mtv8\n",
    "\n",
    "**`Project Goal`**\n",
    "------------\n",
    "Categorize the neighborhoods of Los Angeles by crime severity to know and predict which areas/municipalities are categorized as dangerous according to the FBI’s Uniform Crime Reporting (UCR) Program. \n",
    "\n",
    "1. \"Violent Crime is composed of four offenses: murder and nonnegligent manslaughter, forcible rape, robbery, and aggravated assault. Violent crimes are defined in the UCR Program as those offenses which involve force or threat of force.\" (Crime in the United States)\n",
    "\n",
    "2. \"Property crime includes the offenses of burglary, larceny-theft, motor vehicle theft, and arson.\" (Crime in the United States)\n",
    "\n",
    "*More information can be found at https://www.fbi.gov/services/cjis/ucr*\n",
    "\n",
    "`Client Story:` A Los Angeles-based realtor wants to know which areas of Los Angeles to invest in (buy real estate). Since safety is a major concern for potential customers, the real estate agency wants to know the safest municipalities in the city to do business in. Thus, the real estate agency prefers to avoid areas of Los Angeles that may be risky to do business in. Areas with higher crime may scare away customers which could lead to a net loss of the investment. Market real estate price is not an issue to be wary of, the real estate agency solely wants to focus on the crime levels of the municipalities within the city. Important to note that the project goal is not solely to define the municipalities in the present but predict the potential crime levels for the future. This ensures that the real estate investment is worthwhile in the long run and has net gains over an extended period of time. \n"
   ]
  },
  {
   "cell_type": "markdown",
   "metadata": {},
   "source": [
    "Frame the Problem and Look at the Big Picture\n",
    "=====================================\n",
    "\n",
    "1. **Define the objective in business terms:** \n",
    "\n",
    "\n",
    "2. **How will your solution be used?**\n",
    "\n",
    "\n",
    "3. **What are current solutions (if any)?** \n",
    "\n",
    "4. **How should you frame this problem?**\n",
    "\n",
    "5. **How should performance be measured? Is the performance measure aligned with the business objective?** \n",
    "\n",
    "6. **What would be the minimum performance needed to reach the business objective?**\n",
    "\n",
    "7. **What are comparable problems? Can you reuse experience or tools?** \n",
    "\n",
    "8. **Is human expertise available?** There is no human expertise availble. All the data is gathered from the LAPD\n",
    "\n",
    "9. **How would you solve the problem manually?** Survey the populace of Los Angeles. The survey ask what they think of the crime status of their municipality. Asking multiple questions about different crimes and their reoccurence and rate their municipality from a range of 1 to 10. 1 meaning very safe, 10 very dangerous. The ending score for each surveyer would be the average of their ratings. All the surveys would then be combined and averaged out. \n",
    "\n",
    "10. **List the assumptions you (or others) have made so far. Verify assumptions if possible.** The data is provided from the LAPD. we assume that the information provided is as accurate and objective as possible. We assume no corruption, and misleading reporting by law enforcement and any office involved in the gathering, preparation, and sharing of the data. "
   ]
  },
  {
   "cell_type": "markdown",
   "metadata": {},
   "source": [
    "Get The Data\n",
    "=================="
   ]
  },
  {
   "cell_type": "markdown",
   "metadata": {},
   "source": []
  },
  {
   "cell_type": "code",
   "execution_count": null,
   "metadata": {},
   "outputs": [],
   "source": []
  }
 ],
 "metadata": {
  "language_info": {
   "name": "python"
  },
  "orig_nbformat": 4
 },
 "nbformat": 4,
 "nbformat_minor": 2
}
